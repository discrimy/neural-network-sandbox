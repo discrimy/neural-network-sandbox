{
 "cells": [
  {
   "cell_type": "code",
   "execution_count": 1,
   "id": "5e4b3197",
   "metadata": {},
   "outputs": [],
   "source": [
    "import numpy as np\n",
    "import numpy\n",
    "import matplotlib.pyplot as plt\n",
    "import scipy.special\n",
    "%matplotlib inline\n",
    "\n",
    "\n",
    "class NeuralNetwork:\n",
    "    def __init__(self, input_nodes, hidden_nodes, output_nodes, learning_rate):\n",
    "        self.input_nodes = input_nodes\n",
    "        self.hidden_nodes = hidden_nodes\n",
    "        self.output_nodes = output_nodes\n",
    "        self.learning_rate = learning_rate\n",
    "        \n",
    "        # self.w_ih = np.random.rand(self.hidden_nodes, self.input_nodes) - 0.5\n",
    "        # self.w_ho = np.random.rand(self.output_nodes, self.hidden_nodes) - 0.5\n",
    "        self.w_ih = np.random.normal(0, pow(self.hidden_nodes, -0.5), (self.hidden_nodes, self.input_nodes))\n",
    "        self.w_ho = np.random.normal(0, pow(self.output_nodes, -0.5), (self.output_nodes, self.hidden_nodes))\n",
    "        \n",
    "        self.activation_function = lambda x: scipy.special.expit(x)\n",
    "    \n",
    "    def train(self, inputs_list, targets_list):\n",
    "        # convert inputs list to 2d array\n",
    "        inputs = numpy.array(inputs_list, ndmin=2).T\n",
    "        targets = numpy.array(targets_list, ndmin=2).T\n",
    "        \n",
    "        # calculate signals into hidden layer\n",
    "        hidden_inputs = numpy.dot(self.w_ih, inputs)\n",
    "        # calculate the signals emerging from hidden layer\n",
    "        hidden_outputs = self.activation_function(hidden_inputs)\n",
    "        \n",
    "        # calculate signals into final output layer\n",
    "        final_inputs = numpy.dot(self.w_ho, hidden_outputs)\n",
    "        # calculate the signals emerging from final output layer\n",
    "        final_outputs = self.activation_function(final_inputs)\n",
    "        \n",
    "        # output layer error is the (target - actual)\n",
    "        output_errors = targets - final_outputs\n",
    "        # hidden layer error is the output_errors, split by weights, recombined at hidden nodes\n",
    "        hidden_errors = numpy.dot(self.w_ho.T, output_errors) \n",
    "        \n",
    "        # update the weights for the links between the hidden and output layers\n",
    "        self.w_ho += self.learning_rate * numpy.dot(\n",
    "            (output_errors * final_outputs * (1.0 - final_outputs)),\n",
    "            numpy.transpose(hidden_outputs)\n",
    "        )\n",
    "        \n",
    "        # update the weights for the links between the input and hidden layers\n",
    "        self.w_ih += self.learning_rate * numpy.dot(\n",
    "            (hidden_errors * hidden_outputs * (1.0 - hidden_outputs)),\n",
    "            numpy.transpose(inputs)\n",
    "        )\n",
    "    \n",
    "    def query(self, inputs_list):\n",
    "        # преобразование списка входных значений\n",
    "        # в двухмерный массив\n",
    "        inputs = np.array(inputs_list, ndmin=2).T \n",
    "        # рассчитать входящие сигналы для скрытого слоя \n",
    "        hidden_inputs = np.dot(self.w_ih, inputs)\n",
    "        # рассчитать исходящие сигналы для скрытого слоя \n",
    "        hidden_outputs = self.activation_function(hidden_inputs)\n",
    "        # рассчитать входящие сигналы для выходного слоя \n",
    "        final_inputs = np.dot(self.w_ho, hidden_outputs)\n",
    "        # рассчитать исходящие сигналы для выходного слоя \n",
    "        final_outputs = self.activation_function(final_inputs)\n",
    "        \n",
    "        return final_outputs"
   ]
  },
  {
   "cell_type": "code",
   "execution_count": 2,
   "id": "462cd384",
   "metadata": {},
   "outputs": [],
   "source": [
    "input_nodes = 28*28\n",
    "hidden_nodes = 200\n",
    "output_nodes = 10\n",
    "\n",
    "learning_rate = 0.1\n",
    "nn = NeuralNetwork(input_nodes, hidden_nodes, output_nodes, learning_rate)"
   ]
  },
  {
   "cell_type": "code",
   "execution_count": 3,
   "id": "02b3a456",
   "metadata": {},
   "outputs": [],
   "source": [
    "from pathlib import Path\n",
    "training_data_list = Path('mnist_train.csv').read_text().splitlines()"
   ]
  },
  {
   "cell_type": "code",
   "execution_count": 4,
   "id": "1a5ec1a0",
   "metadata": {},
   "outputs": [],
   "source": [
    "for e in range(5):\n",
    "    for record in training_data_list:\n",
    "        all_values = record.split(',')\n",
    "        inputs = (np.asfarray(all_values[1:]) / 255 * 0.99) + 0.01\n",
    "        targets = np.zeros(output_nodes) + 0.01\n",
    "        targets[int(all_values[0])] = 0.99\n",
    "\n",
    "        nn.train(inputs, targets)"
   ]
  },
  {
   "cell_type": "code",
   "execution_count": 5,
   "id": "2614f6f8",
   "metadata": {},
   "outputs": [],
   "source": [
    "from pathlib import Path\n",
    "test_data_list = Path('mnist_test.csv').read_text().splitlines()"
   ]
  },
  {
   "cell_type": "code",
   "execution_count": 6,
   "id": "ba44acba",
   "metadata": {},
   "outputs": [
    {
     "name": "stdout",
     "output_type": "stream",
     "text": [
      "7\n"
     ]
    },
    {
     "data": {
      "text/plain": [
       "array([[0.00468117],\n",
       "       [0.01005615],\n",
       "       [0.02227047],\n",
       "       [0.00614555],\n",
       "       [0.00107337],\n",
       "       [0.00682628],\n",
       "       [0.00100129],\n",
       "       [0.96195026],\n",
       "       [0.00334373],\n",
       "       [0.00224423]])"
      ]
     },
     "execution_count": 6,
     "metadata": {},
     "output_type": "execute_result"
    },
    {
     "data": {
      "image/png": "[encoded data removed]",
      "text/plain": [
       "<Figure size 432x288 with 1 Axes>"
      ]
     },
     "metadata": {
      "needs_background": "light"
     },
     "output_type": "display_data"
    }
   ],
   "source": [
    "all_values = test_data_list[0].split(',')\n",
    "print(all_values[0])\n",
    "image_array = np.asfarray(all_values[1:]).reshape((28,28))\n",
    "plt.imshow(image_array, cmap='Greys')\n",
    "inputs = (np.asfarray(all_values[1:]) / 255 * 0.99) + 0.01\n",
    "nn.query(inputs)"
   ]
  },
  {
   "cell_type": "code",
   "execution_count": 7,
   "id": "063c724f",
   "metadata": {},
   "outputs": [],
   "source": [
    "answers = []\n",
    "for vals in test_data_list:\n",
    "    answer, *image_raw = vals.split(',')\n",
    "    answer = int(answer)\n",
    "    inputs = (np.asfarray(image_raw) / 255 * 0.99) + 0.01\n",
    "    outputs = nn.query(inputs)\n",
    "    nn_answer = outputs.argmax()\n",
    "    if nn_answer == answer:\n",
    "        answers.append(1)\n",
    "    else:\n",
    "        answers.append(0)"
   ]
  },
  {
   "cell_type": "code",
   "execution_count": 8,
   "id": "f95a5da8",
   "metadata": {},
   "outputs": [
    {
     "name": "stdout",
     "output_type": "stream",
     "text": [
      "0.9729\n"
     ]
    }
   ],
   "source": [
    "from collections import Counter\n",
    "counter = Counter(answers)\n",
    "print(counter[1] / (counter[0] + counter[1]))"
   ]
  }
 ],
 "metadata": {
  "kernelspec": {
   "display_name": "Python 3 (ipykernel)",
   "language": "python",
   "name": "python3"
  },
  "language_info": {
   "codemirror_mode": {
    "name": "ipython",
    "version": 3
   },
   "file_extension": ".py",
   "mimetype": "text/x-python",
   "name": "python",
   "nbconvert_exporter": "python",
   "pygments_lexer": "ipython3",
   "version": "3.10.1"
  }
 },
 "nbformat": 4,
 "nbformat_minor": 5
}
